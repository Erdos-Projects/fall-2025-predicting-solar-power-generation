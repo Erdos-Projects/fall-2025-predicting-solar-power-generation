{
 "cells": [
  {
   "cell_type": "code",
   "execution_count": 135,
   "id": "8049183c",
   "metadata": {},
   "outputs": [],
   "source": [
    "import pandas as pd\n",
    "import numpy as np\n",
    "import seaborn as sns\n",
    "import matplotlib.pyplot as plt"
   ]
  },
  {
   "cell_type": "code",
   "execution_count": 136,
   "id": "719f4acf",
   "metadata": {},
   "outputs": [],
   "source": [
    "#Read csv files and clean\n",
    "\n",
    "AC_Power = pd.read_csv(\"../data/Data_9068/9068_ac_power_data_2022.csv\")\n",
    "AC_Power[\"measured_on\"] = pd.to_datetime(AC_Power[\"measured_on\"])\n",
    "AC_Power = AC_Power[AC_Power[\"measured_on\"].dt.month.isin([1,10,11,12])]\n",
    "AC_Power[\"Power\"] = AC_Power[[\"inverter_1_ac_power_(kw)_inv_150143\",\"inverter_2_ac_power_(kw)_inv_150144\"]].sum(axis=1)\n",
    "AC_Power.dropna(inplace=True)\n",
    "Power = AC_Power.drop(columns=AC_Power.columns[1:-1])"
   ]
  },
  {
   "cell_type": "code",
   "execution_count": 137,
   "id": "7f131ea9",
   "metadata": {},
   "outputs": [],
   "source": [
    "Temperature = pd.read_csv(\"../data/Data_9068/9068_environment_data_2022.csv\")\n",
    "\n",
    "Temperature[\"measured_on\"] = pd.to_datetime(Temperature[\"measured_on\"])\n",
    "Temperature = Temperature[Temperature[\"measured_on\"].dt.month.isin([1,10,11,12])]"
   ]
  },
  {
   "cell_type": "code",
   "execution_count": 138,
   "id": "74de0ed5",
   "metadata": {},
   "outputs": [],
   "source": [
    "Weather = pd.read_csv(\"../data/NREL_Weather/1000190_40.38_-104.55_2022.csv\",header=2)\n",
    "Weather_features = [\"Temperature\", \"Relative Humidity\", \"Wind Speed\", \"Cloud Type\"]\n",
    "Weather[\"DateTime\"] = pd.to_datetime(Weather[[\"Year\",\"Month\",\"Day\",\"Hour\",\"Minute\"]])\n",
    "Weather = Weather.drop(columns=[\"Year\",\"Month\",\"Day\",\"Hour\",\"Minute\"])\n",
    "Weather = Weather[Weather[\"DateTime\"].dt.month.isin([1,10,11,12])]\n",
    "Weather_Reduced = Weather[Weather_features+[\"DateTime\"]].copy()"
   ]
  },
  {
   "cell_type": "code",
   "execution_count": 139,
   "id": "3a40db50",
   "metadata": {},
   "outputs": [
    {
     "data": {
      "text/plain": [
       "measured_on    2022-12-25 10:10:00\n",
       "Power                        642.0\n",
       "Name: 103226, dtype: object"
      ]
     },
     "execution_count": 139,
     "metadata": {},
     "output_type": "execute_result"
    }
   ],
   "source": [
    "AC_Power.iloc[32891,:][[\"measured_on\",\"Power\"]]"
   ]
  },
  {
   "cell_type": "code",
   "execution_count": 140,
   "id": "74a3cf8d",
   "metadata": {},
   "outputs": [
    {
     "data": {
      "text/plain": [
       "GHI                           0\n",
       "DateTime    2022-12-25 10:10:00\n",
       "Name: 103226, dtype: object"
      ]
     },
     "execution_count": 140,
     "metadata": {},
     "output_type": "execute_result"
    }
   ],
   "source": [
    "Weather.iloc[33530,:][[\"GHI\",\"DateTime\"]]"
   ]
  },
  {
   "cell_type": "code",
   "execution_count": 141,
   "id": "9c34701f",
   "metadata": {},
   "outputs": [
    {
     "data": {
      "text/plain": [
       "GHI                           9\n",
       "DateTime    2022-12-25 17:10:00\n",
       "Name: 103310, dtype: object"
      ]
     },
     "execution_count": 141,
     "metadata": {},
     "output_type": "execute_result"
    }
   ],
   "source": [
    "Weather.iloc[33614,:][[\"GHI\",\"DateTime\"]]"
   ]
  },
  {
   "cell_type": "code",
   "execution_count": 142,
   "id": "4f05e08c",
   "metadata": {},
   "outputs": [
    {
     "data": {
      "text/plain": [
       "GHI                           0\n",
       "DateTime    2022-12-25 03:10:00\n",
       "Name: 103142, dtype: object"
      ]
     },
     "execution_count": 142,
     "metadata": {},
     "output_type": "execute_result"
    }
   ],
   "source": [
    "Weather.iloc[33446,:][[\"GHI\",\"DateTime\"]]"
   ]
  },
  {
   "cell_type": "code",
   "execution_count": 143,
   "id": "418d097a",
   "metadata": {},
   "outputs": [],
   "source": [
    "Merged_data = pd.merge(Power,Temperature,left_on=\"measured_on\",right_on=\"measured_on\",how=\"inner\")\n",
    "Merged_data = pd.merge(Merged_data,Weather_Reduced,left_on=\"measured_on\",right_on=\"DateTime\",how=\"inner\")\n",
    "Merged_data.drop(columns=[\"measured_on\"],inplace=True)\n",
    "Merged_data.rename(columns={Merged_data.columns[1]: \"Ambient Temperature\",Merged_data.columns[2]: \"Wind Sensor\"}, inplace=True)"
   ]
  },
  {
   "cell_type": "code",
   "execution_count": 144,
   "id": "fdbfd641",
   "metadata": {},
   "outputs": [],
   "source": [
    "Merged_data = Merged_data[Merged_data[\"Power\"]>0]"
   ]
  },
  {
   "cell_type": "code",
   "execution_count": 145,
   "id": "109e9b18",
   "metadata": {},
   "outputs": [],
   "source": [
    "#Dataframe of for each day\n",
    "\n",
    "aggregation = {col: \"mean\" for col in Merged_data.columns[:-1]}\n",
    "aggregation.update({\"Power\": \"sum\", \"Cloud Type\":lambda x: x.mode().iloc[0] if not x.mode().empty else None})\n",
    "\n",
    "Merged_Daily = Merged_data.resample(\"d\", on=\"DateTime\").agg(aggregation)\n",
    "Merged_Daily.dropna(inplace = True)"
   ]
  },
  {
   "cell_type": "code",
   "execution_count": null,
   "id": "17d01da7",
   "metadata": {},
   "outputs": [],
   "source": [
    "Merged_Daily_Int = Merged_Daily.copy().drop(columns=[\"Temperature\",\"Wind Speed\"])\n",
    "Merged_Daily_Int[\"Ambient Temperature\"] += 273\n",
    "Merged_Daily_Int[\"TT\"] = Merged_Daily_Int[\"Ambient Temperature\"]**2\n",
    "Merged_Daily_Int[\"TH\"] = Merged_Daily_Int[\"Ambient Temperature\"]*Merged_Daily_Int[\"Relative Humidity\"]\n",
    "Merged_Daily_Int[\"HH\"] = Merged_Daily_Int[\"Relative Humidity\"]**2"
   ]
  },
  {
   "cell_type": "code",
   "execution_count": 147,
   "id": "bddb6af8",
   "metadata": {},
   "outputs": [],
   "source": [
    "import itertools\n",
    "\n",
    "from sklearn.linear_model import LinearRegression\n",
    "from sklearn.model_selection import KFold\n",
    "from sklearn.dummy import DummyRegressor\n",
    "from sklearn.model_selection import cross_val_score\n",
    "\n",
    "def linear_models(df,target:str,features:list,splits = 5):\n",
    "    cv=KFold(n_splits=splits, shuffle=True)\n",
    "    results = []\n",
    "    y = df[target]\n",
    "\n",
    "    for i in range(1,len(features)+1):\n",
    "        for subset in itertools.combinations(features, i):\n",
    "            X = df[list(subset)]\n",
    "            mlr = LinearRegression()\n",
    "            rmse_scores = cross_val_score(mlr, X, y, cv=cv,scoring=\"neg_root_mean_squared_error\")\n",
    "            r2_scores = cross_val_score(mlr, X, y, cv=cv,scoring=\"r2\")\n",
    "            adj_r2_scores = []\n",
    "            n_samples, n_features = X.shape\n",
    "            for score in r2_scores:\n",
    "                adj_r2 = 1-(1-score)*(n_samples-n_features)/(n_samples-n_features-1)\n",
    "                adj_r2_scores.append(adj_r2)\n",
    "            mlr.fit(X,y)\n",
    "\n",
    "            results.append({\n",
    "                'features': subset,\n",
    "                'cv_rmse_mean_score': np.mean(rmse_scores),\n",
    "                'cv_rmse_std': np.std(rmse_scores),\n",
    "                'cv_r2_mean_score': np.mean(r2_scores),\n",
    "                'cv_r2_std': np.std(r2_scores),\n",
    "                'cv_adjr2_mean_score' : np.mean(adj_r2_scores),\n",
    "                'cv_adj_std' : np.std(adj_r2_scores),\n",
    "                'coeff' : mlr.coef_,\n",
    "                'intercept' : mlr.intercept_\n",
    "            })\n",
    "    return results"
   ]
  },
  {
   "cell_type": "code",
   "execution_count": 166,
   "id": "eb781381",
   "metadata": {},
   "outputs": [],
   "source": [
    "Models = linear_models(Merged_Daily_Int,\"Power\",Merged_Daily_Int.columns[1:],5)"
   ]
  },
  {
   "cell_type": "code",
   "execution_count": 167,
   "id": "80fee58a",
   "metadata": {},
   "outputs": [
    {
     "name": "stdout",
     "output_type": "stream",
     "text": [
      "Best models based on adjr2:\n",
      "('Ambient Temperature', 'Wind Sensor', 'Relative Humidity', 'Cloud Type', 'TT', 'TH') 0.5658392546960067\n",
      "('Relative Humidity', 'Cloud Type', 'TH') 0.5657238795664059\n",
      "('Ambient Temperature', 'Cloud Type', 'TT', 'TH') 0.5441572914206622\n",
      "Best models based on cv_rmse_mean_score:\n",
      "('Wind Sensor', 'Relative Humidity', 'Cloud Type', 'TH', 'HH') -53016.863509365205\n",
      "('Ambient Temperature', 'Relative Humidity', 'Cloud Type', 'TT', 'TH', 'HH') -53192.53140472826\n",
      "('Relative Humidity', 'Cloud Type', 'TT', 'TH', 'HH') -53608.72638596606\n",
      "Best models based on cv_r2_mean_score:\n",
      "('Ambient Temperature', 'Wind Sensor', 'Relative Humidity', 'Cloud Type', 'TT', 'TH') 0.5695820197417308\n",
      "('Relative Humidity', 'Cloud Type', 'TH') 0.5693732587297134\n",
      "('Ambient Temperature', 'Cloud Type', 'TT', 'TH') 0.5480203652221819\n"
     ]
    }
   ],
   "source": [
    "sorted_Models1 = sorted(Models, key=lambda k:k[\"cv_adjr2_mean_score\"],reverse=True)\n",
    "print(\"Best models based on adjr2:\")\n",
    "for i in range(3):\n",
    "    print(sorted_Models1[i][\"features\"],sorted_Models1[i][\"cv_adjr2_mean_score\"])\n",
    "\n",
    "sorted_Models2 = sorted(Models, key=lambda k:k[\"cv_rmse_mean_score\"],reverse=True)\n",
    "print(\"Best models based on cv_rmse_mean_score:\")\n",
    "for i in range(3):\n",
    "    print(sorted_Models2[i][\"features\"],sorted_Models2[i][\"cv_rmse_mean_score\"])\n",
    "\n",
    "sorted_Models3 = sorted(Models, key=lambda k:k[\"cv_r2_mean_score\"],reverse=True)\n",
    "print(\"Best models based on cv_r2_mean_score:\")\n",
    "for i in range(3):\n",
    "    print(sorted_Models3[i][\"features\"],sorted_Models3[i][\"cv_r2_mean_score\"])"
   ]
  },
  {
   "cell_type": "code",
   "execution_count": 150,
   "id": "942262d5",
   "metadata": {},
   "outputs": [
    {
     "name": "stdout",
     "output_type": "stream",
     "text": [
      "-0.9143809948697822\n"
     ]
    }
   ],
   "source": [
    "mean_regressor = DummyRegressor(strategy=\"mean\")\n",
    "mean_regressor.fit(Merged_Daily_Int[\"TT\"], Merged_Daily_Int[\"Power\"])\n",
    "baseline_pred = mean_regressor.predict(Merged_Daily_Int[\"Power\"])\n",
    "\n",
    "sc = cross_val_score(mean_regressor,Merged_Daily_Int[\"TT\"],Merged_Daily_Int[\"Power\"],cv=5,scoring=\"r2\")\n",
    "print(sc.mean())"
   ]
  },
  {
   "cell_type": "code",
   "execution_count": 151,
   "id": "54239869",
   "metadata": {},
   "outputs": [],
   "source": [
    "#Read csv files and clean\n",
    "\n",
    "AC_Power2 = pd.read_csv(\"../data/Data_9068/9068_ac_power_data_20240101_20250430.csv\")\n",
    "AC_Power2[\"measured_on\"] = pd.to_datetime(AC_Power2[\"measured_on\"])\n",
    "AC_Power2 = AC_Power2[(AC_Power2[\"measured_on\"].dt.year ==  2024)&(AC_Power2[\"measured_on\"].dt.month.isin([1,10,11,12]))]\n",
    "AC_Power2[\"Power\"] = AC_Power2[[\"inverter_1_ac_power_(kw)_inv_150143\",\"inverter_2_ac_power_(kw)_inv_150144\"]].sum(axis=1)\n",
    "AC_Power2.dropna(inplace=True)\n",
    "Power2 = AC_Power2.drop(columns=AC_Power2.columns[1:-1])"
   ]
  },
  {
   "cell_type": "code",
   "execution_count": 152,
   "id": "40cb626a",
   "metadata": {},
   "outputs": [],
   "source": [
    "Temperature2 = pd.read_csv(\"../data/Data_9068/9068_environment_data_20240101_20250430.csv\")\n",
    "\n",
    "Temperature2_Reduced = Temperature2[[list(Temperature2.columns)[i] for i in [0,1,9]]].copy()\n",
    "Temperature2_Reduced[\"measured_on\"] = pd.to_datetime(Temperature2_Reduced[\"measured_on\"])\n",
    "Temperature2_Reduced = Temperature2_Reduced[(Temperature2_Reduced[\"measured_on\"].dt.year ==  2024)&(Temperature2_Reduced[\"measured_on\"].dt.month.isin([1,10,11,12]))]"
   ]
  },
  {
   "cell_type": "code",
   "execution_count": 153,
   "id": "69695f09",
   "metadata": {},
   "outputs": [],
   "source": [
    "Weather2 = pd.read_csv(\"../data/NREL_Weather/1000190_40.38_-104.55_2024.csv\",header=2)\n",
    "Weather2_features = [\"Relative Humidity\", \"Cloud Type\"]\n",
    "Weather2[\"DateTime\"] = pd.to_datetime(Weather2[[\"Year\",\"Month\",\"Day\",\"Hour\",\"Minute\"]])\n",
    "Weather2 = Weather2.drop(columns=[\"Year\",\"Month\",\"Day\",\"Hour\",\"Minute\"])\n",
    "Weather2 = Weather2[Weather2[\"DateTime\"].dt.month.isin([1,10,11,12])]\n",
    "Weather2_Reduced = Weather2[Weather2_features+[\"DateTime\"]].copy()"
   ]
  },
  {
   "cell_type": "code",
   "execution_count": 154,
   "id": "a7cb8ad8",
   "metadata": {},
   "outputs": [],
   "source": [
    "Merged_data2 = pd.merge(Power2,Temperature2_Reduced,left_on=\"measured_on\",right_on=\"measured_on\",how=\"inner\")\n",
    "Merged_data2 = pd.merge(Merged_data2,Weather2_Reduced,left_on=\"measured_on\",right_on=\"DateTime\",how=\"inner\")\n",
    "Merged_data2.drop(columns=[\"measured_on\"],inplace=True)\n",
    "Merged_data2.rename(columns={Merged_data2.columns[1]: \"Ambient Temperature\",Merged_data2.columns[2]: \"Wind Sensor\"}, inplace=True)"
   ]
  },
  {
   "cell_type": "code",
   "execution_count": 155,
   "id": "aeb7e588",
   "metadata": {},
   "outputs": [],
   "source": [
    "aggregation = {col: \"mean\" for col in Merged_data2.columns[:-1]}\n",
    "aggregation.update({\"Power\": \"sum\", \"Cloud Type\":lambda x: x.mode().iloc[0] if not x.mode().empty else None})\n",
    "\n",
    "Merged_Daily2 = Merged_data2.resample(\"d\", on=\"DateTime\").agg(aggregation)\n",
    "Merged_Daily2.dropna(inplace = True)"
   ]
  },
  {
   "cell_type": "code",
   "execution_count": 156,
   "id": "df74ebab",
   "metadata": {},
   "outputs": [],
   "source": [
    "Merged_Daily2_Int = Merged_Daily2.copy()\n",
    "Merged_Daily2_Int[\"Ambient Temperature\"] += 273\n",
    "Merged_Daily2_Int[\"TT\"] = Merged_Daily2_Int[\"Ambient Temperature\"]**2\n",
    "Merged_Daily2_Int[\"TH\"] = Merged_Daily2_Int[\"Ambient Temperature\"]*Merged_Daily2_Int[\"Relative Humidity\"]\n",
    "Merged_Daily2_Int[\"HH\"] = Merged_Daily2_Int[\"Relative Humidity\"]**2"
   ]
  },
  {
   "cell_type": "code",
   "execution_count": 157,
   "id": "42611a96",
   "metadata": {},
   "outputs": [],
   "source": [
    "i=0\n",
    "for model in Models:\n",
    "    y24rms = np.inf\n",
    "    y24r2 = -np.inf\n",
    "    best_y24mrmse = []\n",
    "    best_y24r2 = []\n",
    "    feat = list(model[\"features\"])\n",
    "    coefficients = list(model[\"coeff\"])\n",
    "    intercept = model[\"intercept\"]\n",
    "    test24 = Merged_Daily2_Int[feat].copy()\n",
    "    test24[\"Prediction\"] = sum(test24[col]*coef for col,coef in zip(feat,coefficients))+intercept\n",
    "    test24[\"Power\"] = Merged_Daily2_Int[\"Power\"]\n",
    "    test24[\"Residual\"] = test24[\"Prediction\"]-test24[\"Power\"]\n",
    "    sq_res = (((test24[\"Power\"]-test24[\"Prediction\"])**2).sum(axis=0))\n",
    "    tot_sq = (((test24[\"Power\"]-test24[\"Power\"].mean())**2).sum(axis=0))\n",
    "    if np.sqrt(np.mean(test24[\"Residual\"]**2)) < y24rms:\n",
    "        y24rms = np.sqrt(np.mean(test24[\"Residual\"]**2))\n",
    "        best_y24mrmse = model\n",
    "        j = i\n",
    "    if 1-sq_res/tot_sq > y24r2:\n",
    "        y24r2 = 1-sq_res/tot_sq\n",
    "        best_y24r2 = model\n",
    "        k = i\n",
    "    i+=1"
   ]
  },
  {
   "cell_type": "code",
   "execution_count": 158,
   "id": "2967bfdf",
   "metadata": {},
   "outputs": [
    {
     "name": "stdout",
     "output_type": "stream",
     "text": [
      "('Ambient Temperature', 'Wind Sensor', 'Relative Humidity', 'Cloud Type', 'TT', 'TH', 'HH') 62302.58733845475\n",
      "('Ambient Temperature', 'Wind Sensor', 'Relative Humidity', 'Cloud Type', 'TT', 'TH', 'HH') 0.20217925689570104\n"
     ]
    }
   ],
   "source": [
    "print(best_y24mrmse['features'],y24rms)\n",
    "print(best_y24r2['features'],y24r2)"
   ]
  },
  {
   "cell_type": "code",
   "execution_count": 159,
   "id": "9a70a712",
   "metadata": {},
   "outputs": [
    {
     "name": "stdout",
     "output_type": "stream",
     "text": [
      "-71647.95528090691\n"
     ]
    }
   ],
   "source": [
    "mean_regressor = DummyRegressor(strategy=\"mean\")\n",
    "mean_regressor.fit(Merged_Daily2_Int[\"TT\"], Merged_Daily2_Int[\"Power\"])\n",
    "baseline_pred = mean_regressor.predict(Merged_Daily2_Int[\"Power\"])\n",
    "\n",
    "sc = cross_val_score(mean_regressor,Merged_Daily2_Int[\"TT\"],Merged_Daily2_Int[\"Power\"],cv=5,scoring=\"neg_root_mean_squared_error\")\n",
    "print(sc.mean())"
   ]
  },
  {
   "cell_type": "code",
   "execution_count": 160,
   "id": "31950b2f",
   "metadata": {},
   "outputs": [
    {
     "data": {
      "image/png": "[encoded data removed]",
      "text/plain": [
       "<Figure size 640x480 with 1 Axes>"
      ]
     },
     "metadata": {},
     "output_type": "display_data"
    }
   ],
   "source": [
    "sns.scatterplot(test24, x=\"Power\", y=\"Prediction\")\n",
    "X = np.linspace(0,test24[\"Power\"].max(),2)\n",
    "plt.plot(X,X)\n",
    "plt.show()"
   ]
  },
  {
   "cell_type": "code",
   "execution_count": 168,
   "id": "ac67aace",
   "metadata": {},
   "outputs": [
    {
     "data": {
      "image/png": "[encoded data removed]",
      "text/plain": [
       "<Figure size 640x480 with 1 Axes>"
      ]
     },
     "metadata": {},
     "output_type": "display_data"
    }
   ],
   "source": [
    "test22 = Merged_Daily_Int[feat]\n",
    "test22[\"Prediction\"] = sum(test22[col]*coef for col,coef in zip(feat,list(sorted_Models1[0][\"coeff\"])))+sorted_Models1[0][\"intercept\"]\n",
    "test22[\"Power\"] = Merged_Daily_Int[\"Power\"]\n",
    "test22[\"Residual\"] = test22[\"Prediction\"]-test22[\"Power\"]\n",
    "\n",
    "sns.scatterplot(test22, x=\"Power\", y=\"Prediction\")\n",
    "X = np.linspace(0,test22[\"Power\"].max(),2)\n",
    "plt.plot(X,X)\n",
    "plt.show()"
   ]
  },
  {
   "cell_type": "code",
   "execution_count": null,
   "id": "7b281037",
   "metadata": {},
   "outputs": [],
   "source": []
  }
 ],
 "metadata": {
  "kernelspec": {
   "display_name": "erdos_ds_environment",
   "language": "python",
   "name": "python3"
  },
  "language_info": {
   "codemirror_mode": {
    "name": "ipython",
    "version": 3
   },
   "file_extension": ".py",
   "mimetype": "text/x-python",
   "name": "python",
   "nbconvert_exporter": "python",
   "pygments_lexer": "ipython3",
   "version": "3.12.11"
  }
 },
 "nbformat": 4,
 "nbformat_minor": 5
}
